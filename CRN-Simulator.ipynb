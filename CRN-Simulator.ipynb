{
 "cells": [
  {
   "cell_type": "code",
   "execution_count": 20,
   "metadata": {},
   "outputs": [],
   "source": [
    "#Including required Julia Packages\n",
    "using Catalyst, DifferentialEquations, Latexify,Plots"
   ]
  },
  {
   "cell_type": "code",
   "execution_count": 21,
   "metadata": {},
   "outputs": [],
   "source": [
    "#Including the Generated Reactions from Python HMMCRN-Generator\n",
    "include(\"1000.jl\");"
   ]
  },
  {
   "cell_type": "code",
   "execution_count": 22,
   "metadata": {},
   "outputs": [],
   "source": [
    "#Creating the map of the species for initilization\n",
    "Sp= Dict(string(key) => value for (key, value) in speciesmap(crn));"
   ]
  },
  {
   "cell_type": "code",
   "execution_count": 23,
   "metadata": {
    "scrolled": false
   },
   "outputs": [],
   "source": [
    "#Graph can take a long time to generate\n",
    "#Graph(hmmcrn)"
   ]
  },
  {
   "cell_type": "code",
   "execution_count": 24,
   "metadata": {},
   "outputs": [],
   "source": [
    "#Including concentration initialization functions (Random and uniform)\n",
    "include(\"Initializer.jl\")"
   ]
  },
  {
   "cell_type": "code",
   "execution_count": 25,
   "metadata": {},
   "outputs": [],
   "source": [
    "#uniformly initializing\n",
    "u0=uni_init(Sp,m,n,Obs);"
   ]
  },
  {
   "cell_type": "code",
   "execution_count": null,
   "metadata": {},
   "outputs": [],
   "source": []
  },
  {
   "cell_type": "code",
   "execution_count": 26,
   "metadata": {},
   "outputs": [],
   "source": [
    "osys=convert(ODESystem, crn);"
   ]
  },
  {
   "cell_type": "code",
   "execution_count": 27,
   "metadata": {},
   "outputs": [],
   "source": [
    "u0map  = Pair.(species(crn), u0)\n",
    "oprob = ODEProblem(osys, u0map, 1.0);"
   ]
  },
  {
   "cell_type": "code",
   "execution_count": 28,
   "metadata": {},
   "outputs": [],
   "source": [
    "#Setting Variables to be plotted //Needs Automation\n",
    "vars = [(0,Sp[\"T01(t)\"]), (0,Sp[\"T02(t)\"]),(0,Sp[\"T11(t)\"]),(0,Sp[\"T12(t)\"]),(0,Sp[\"T21(t)\"]),(0,Sp[\"T22(t)\"]),\n",
    "(0,Sp[\"T1_1(t)\"]),(0,Sp[\"T1_2(t)\"]),(0,Sp[\"T2_1(t)\"]),(0,Sp[\"T2_2(t)\"])\n",
    "];"
   ]
  },
  {
   "cell_type": "code",
   "execution_count": 29,
   "metadata": {},
   "outputs": [
    {
     "ename": "LoadError",
     "evalue": "UndefVarError: oprob2 not defined",
     "output_type": "error",
     "traceback": [
      "UndefVarError: oprob2 not defined",
      "",
      "Stacktrace:",
      " [1] top-level scope at In[29]:1",
      " [2] include_string(::Function, ::Module, ::String, ::String) at ./loading.jl:1091"
     ]
    }
   ],
   "source": [
    "sol = solve(oprob2, Tsit5());\n",
    "#sol = solve(oprob2);"
   ]
  },
  {
   "cell_type": "code",
   "execution_count": 30,
   "metadata": {},
   "outputs": [
    {
     "ename": "LoadError",
     "evalue": "UndefVarError: sol not defined",
     "output_type": "error",
     "traceback": [
      "UndefVarError: sol not defined",
      "",
      "Stacktrace:",
      " [1] top-level scope at In[30]:1",
      " [2] include_string(::Function, ::Module, ::String, ::String) at ./loading.jl:1091"
     ]
    }
   ],
   "source": [
    "plot(sol,vars=vars)"
   ]
  },
  {
   "cell_type": "code",
   "execution_count": null,
   "metadata": {},
   "outputs": [],
   "source": []
  },
  {
   "cell_type": "code",
   "execution_count": 31,
   "metadata": {},
   "outputs": [
    {
     "name": "stdout",
     "output_type": "stream",
     "text": [
      "CRN Start: Theta=\n"
     ]
    },
    {
     "ename": "LoadError",
     "evalue": "UndefVarError: sol not defined",
     "output_type": "error",
     "traceback": [
      "UndefVarError: sol not defined",
      "",
      "Stacktrace:",
      " [1] top-level scope at In[31]:3",
      " [2] include_string(::Function, ::Module, ::String, ::String) at ./loading.jl:1091"
     ]
    }
   ],
   "source": [
    "#Needs Automation and Description\n",
    "println(\"CRN Start: Theta=\")\n",
    "println(sol[1][vars[3][2]],\",\",sol[1][vars[4][2]])\n",
    "println(sol[1][vars[5][2]],\",\",sol[1][vars[6][2]])\n",
    "println(\"Psi=\")\n",
    "println(sol[1][vars[7][2]],\",\",sol[1][vars[8][2]])#,\",\",sol[end][vars[9][2]])\n",
    "println(sol[1][vars[9][2]],\",\",sol[1][vars[10][2]])#,\",\",sol[end][vars[12][2]])\n",
    "println(\"\\nCRN End: Theta=\")\n",
    "println(sol[end][vars[3][2]],\",\",sol[end][vars[4][2]])\n",
    "println(sol[end][vars[5][2]],\",\",sol[end][vars[6][2]])\n",
    "println(\"Psi=\")\n",
    "println(sol[end][vars[7][2]],\",\",sol[end][vars[8][2]])#,\",\",sol[end][vars[9][2]])\n",
    "println(sol[end][vars[9][2]],\",\",sol[end][vars[10][2]])#,\",\",sol[end][vars[12][2]])"
   ]
  },
  {
   "cell_type": "code",
   "execution_count": null,
   "metadata": {},
   "outputs": [],
   "source": []
  },
  {
   "cell_type": "code",
   "execution_count": null,
   "metadata": {},
   "outputs": [],
   "source": []
  },
  {
   "cell_type": "code",
   "execution_count": 32,
   "metadata": {},
   "outputs": [],
   "source": [
    "#Random Initialization\n",
    "u0=ran_init(Sp,m,n,Obs);"
   ]
  },
  {
   "cell_type": "code",
   "execution_count": null,
   "metadata": {},
   "outputs": [],
   "source": [
    "u0map  = Pair.(species(hmmcrn), u0)\n",
    "#pmap   = Pair.(params(hmmcrn), p)\n",
    "oprob = ODEProblem(osys, u0map, 1.0)"
   ]
  },
  {
   "cell_type": "code",
   "execution_count": null,
   "metadata": {},
   "outputs": [],
   "source": [
    "sol = solve(oprob, Tsit5());"
   ]
  },
  {
   "cell_type": "code",
   "execution_count": null,
   "metadata": {},
   "outputs": [],
   "source": [
    "plot(sol,vars=vars)"
   ]
  },
  {
   "cell_type": "code",
   "execution_count": null,
   "metadata": {},
   "outputs": [],
   "source": [
    "println(\"CRN Start\")\n",
    "println(sol[1][vars[3][2]],\",\",sol[1][vars[4][2]])\n",
    "println(sol[1][vars[5][2]],\",\",sol[1][vars[6][2]])\n",
    "println(\" \")\n",
    "println(sol[1][vars[7][2]],\",\",sol[1][vars[8][2]])#,\",\",sol[end][vars[9][2]])\n",
    "println(sol[1][vars[9][2]],\",\",sol[1][vars[10][2]])#,\",\",sol[end][vars[12][2]])\n",
    "println(\"\\nCRN End\")\n",
    "println(sol[end][vars[3][2]],\",\",sol[end][vars[4][2]])\n",
    "println(sol[end][vars[5][2]],\",\",sol[end][vars[6][2]])\n",
    "println(\" \")\n",
    "println(sol[end][vars[7][2]],\",\",sol[end][vars[8][2]])#,\",\",sol[end][vars[9][2]])\n",
    "println(sol[end][vars[9][2]],\",\",sol[end][vars[10][2]])#,\",\",sol[end][vars[12][2]])"
   ]
  },
  {
   "cell_type": "code",
   "execution_count": null,
   "metadata": {},
   "outputs": [],
   "source": []
  },
  {
   "cell_type": "code",
   "execution_count": null,
   "metadata": {},
   "outputs": [],
   "source": []
  }
 ],
 "metadata": {
  "kernelspec": {
   "display_name": "Julia 1.5.3",
   "language": "julia",
   "name": "julia-1.5"
  },
  "language_info": {
   "file_extension": ".jl",
   "mimetype": "application/julia",
   "name": "julia",
   "version": "1.5.3"
  }
 },
 "nbformat": 4,
 "nbformat_minor": 2
}
